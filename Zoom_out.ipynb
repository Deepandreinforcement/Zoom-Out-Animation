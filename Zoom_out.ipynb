{
  "nbformat": 4,
  "nbformat_minor": 0,
  "metadata": {
    "colab": {
      "provenance": [],
      "authorship_tag": "ABX9TyM4FxX8+smidI2OCF9bfOhJ",
      "include_colab_link": true
    },
    "kernelspec": {
      "name": "python3",
      "display_name": "Python 3"
    },
    "language_info": {
      "name": "python"
    },
    "accelerator": "GPU",
    "gpuClass": "standard"
  },
  "cells": [
    {
      "cell_type": "markdown",
      "metadata": {
        "id": "view-in-github",
        "colab_type": "text"
      },
      "source": [
        "<a href=\"https://colab.research.google.com/github/Deepandreinforcement/Zoom-Out-Animation/blob/main/Zoom_out.ipynb\" target=\"_parent\"><img src=\"https://colab.research.google.com/assets/colab-badge.svg\" alt=\"Open In Colab\"/></a>"
      ]
    },
    {
      "cell_type": "markdown",
      "source": [
        "Buradaki kodları bu GitHub reposundan aldım. Gerekli birkaç değişiklik yaptım kütüphane kurulumu vs. \n",
        "\n",
        "https://github.com/hardmaru/image-notebook/blob/main/stable-diffusion-2-infinite-zoom-out/infinite_zoom_out.ipynb"
      ],
      "metadata": {
        "id": "sYqcmTtHKNJn"
      }
    },
    {
      "cell_type": "code",
      "execution_count": null,
      "metadata": {
        "id": "jC71afR2G5B5"
      },
      "outputs": [],
      "source": [
        "!pip install diffusers"
      ]
    },
    {
      "cell_type": "code",
      "source": [
        "!pip install transformers"
      ],
      "metadata": {
        "id": "WGnDtrn_G5s7"
      },
      "execution_count": null,
      "outputs": []
    },
    {
      "cell_type": "code",
      "source": [
        "!pip install -U xformers"
      ],
      "metadata": {
        "id": "1Mn7KcWOG5wL"
      },
      "execution_count": null,
      "outputs": []
    },
    {
      "cell_type": "code",
      "source": [
        "!pip install accelerate"
      ],
      "metadata": {
        "id": "JtIazNhYG5zN"
      },
      "execution_count": null,
      "outputs": []
    },
    {
      "cell_type": "code",
      "source": [
        "import PIL\n",
        "from PIL import Image\n",
        "import requests\n",
        "from io import BytesIO\n",
        "import numpy as np\n",
        "import random\n",
        "import cv2\n",
        "import os\n",
        "os.environ[\"CUDA_VISIBLE_DEVICES\"]=\"0\"\n",
        "\n",
        "import torch\n",
        "from diffusers import DiffusionPipeline, DPMSolverMultistepScheduler"
      ],
      "metadata": {
        "id": "XmrajuJ5G52F"
      },
      "execution_count": null,
      "outputs": []
    },
    {
      "cell_type": "code",
      "source": [
        "def write_video(file_path, frames, fps):\n",
        "    \"\"\"\n",
        "    Writes frames to an mp4 video file\n",
        "    :param file_path: Path to output video, must end with .mp4\n",
        "    :param frames: List of PIL.Image objects\n",
        "    :param fps: Desired frame rate\n",
        "    \"\"\"\n",
        "\n",
        "    w, h = frames[0].size\n",
        "    fourcc = cv2.VideoWriter_fourcc('m', 'p', '4', 'v')\n",
        "    #fourcc = cv2.VideoWriter_fourcc(*'avc1')\n",
        "    writer = cv2.VideoWriter(file_path, fourcc, fps, (w, h))\n",
        "\n",
        "    for frame in frames:\n",
        "        np_frame = np.array(frame.convert('RGB'))\n",
        "        cv_frame = cv2.cvtColor(np_frame, cv2.COLOR_RGB2BGR)\n",
        "        writer.write(cv_frame)\n",
        "\n",
        "    writer.release() "
      ],
      "metadata": {
        "id": "3Ef0Uu9XG55j"
      },
      "execution_count": 6,
      "outputs": []
    },
    {
      "cell_type": "code",
      "source": [
        "pipe = DiffusionPipeline.from_pretrained(\"stabilityai/stable-diffusion-2-inpainting\", torch_dtype=torch.float16, revision=\"fp16\")\n",
        "pipe.set_use_memory_efficient_attention_xformers(True)\n",
        "\n",
        "pipe.scheduler = DPMSolverMultistepScheduler.from_config(pipe.scheduler.config)\n",
        "pipe = pipe.to(\"cuda\")\n",
        "def dummy(images, **kwargs):\n",
        "    return images, False\n",
        "pipe.safety_checker = dummy"
      ],
      "metadata": {
        "id": "8n9jgUjSG58i"
      },
      "execution_count": null,
      "outputs": []
    },
    {
      "cell_type": "code",
      "source": [
        "current_image = PIL.Image.new(mode=\"RGBA\", size=(512, 512))\n",
        "mask_image = np.array(current_image)[:,:,3] # assume image has alpha mask (use .mode to check for \"RGBA\")\n",
        "mask_image = Image.fromarray(255-mask_image).convert(\"RGB\")\n",
        "current_image = current_image.convert(\"RGB\")"
      ],
      "metadata": {
        "id": "rsiR1X6qG5_z"
      },
      "execution_count": 8,
      "outputs": []
    },
    {
      "cell_type": "code",
      "source": [
        "# Bu promt kodu oluşturan kişinin yazdığı prompt\n",
        "# orig_prompt = \"Create a relaxing atmosphere with the use of plants and other natural elements. Such as a hanging terrarium or a wall-mounted planter. Include plenty of storage options to keep the space organized and clutter-free. Consider adding a vanity with double sinks and plenty of drawers and cabinets. As well as a wall mounted medicine and towel storage.\"\n",
        "# Burada oluşturmasını istediğimiz şeyi tarif ediyoruz.\n",
        "orig_prompt= 'a futuristic city with robots, cinematic, artistic '\n",
        "# burada resimde olmasını istemediğimiz şeyleri yazıyoruz.\n",
        "orig_negative_prompt = \"lurry, bad art, blurred, text, watermark\"\n",
        "\n",
        "\n",
        "num_images = 1\n",
        "prompt = [orig_prompt] * num_images\n",
        "negative_prompt = [orig_negative_prompt] * num_images"
      ],
      "metadata": {
        "id": "YIzrHg0NG6Cw"
      },
      "execution_count": 9,
      "outputs": []
    },
    {
      "cell_type": "code",
      "source": [
        "# Burada başlangıç resmini oluşturyoruz.\n",
        "\n",
        "images = pipe(prompt=prompt, negative_prompt=negative_prompt, image=current_image, mask_image=mask_image, num_inference_steps=25)[0]\n",
        "current_image = images[0]\n",
        "\n",
        "current_image"
      ],
      "metadata": {
        "id": "NPzb2XNYI5pk"
      },
      "execution_count": null,
      "outputs": []
    },
    {
      "cell_type": "code",
      "source": [
        "# Burada toplam 512 oluşturdum ben. İlk görüntü yukarıda oluşturulduğu için NUMFRAMES = 511 olarak yazdım.\n",
        "STEPSIZE = 32\n",
        "NUMFRAMES = 511\n",
        "all_frames = []\n",
        "all_frames.append(current_image)"
      ],
      "metadata": {
        "id": "vf9WjYd1G6JK"
      },
      "execution_count": 11,
      "outputs": []
    },
    {
      "cell_type": "code",
      "source": [
        "for i in range(NUMFRAMES):\n",
        "  next_image = np.array(current_image.convert(\"RGBA\"))*0\n",
        "  prev_image = current_image.resize((512-2*STEPSIZE,512-2*STEPSIZE))\n",
        "  prev_image = prev_image.convert(\"RGBA\")\n",
        "  prev_image = np.array(prev_image)\n",
        "  next_image[:, :, 3] = 1\n",
        "  next_image[STEPSIZE:512-STEPSIZE,STEPSIZE:512-STEPSIZE,:] = prev_image\n",
        "  prev_image = Image.fromarray(next_image)\n",
        "  current_image = prev_image\n",
        "  mask_image = np.array(current_image)[:,:,3] # assume image has alpha mask (use .mode to check for \"RGBA\")\n",
        "  mask_image = Image.fromarray(255-mask_image).convert(\"RGB\")\n",
        "  current_image = current_image.convert(\"RGB\")\n",
        "  images = pipe(prompt=prompt, negative_prompt=negative_prompt, image=current_image, mask_image=mask_image, num_inference_steps=25)[0]\n",
        "  current_image = images[0]\n",
        "  current_image.paste(prev_image, mask=prev_image)\n",
        "  all_frames.append(current_image)"
      ],
      "metadata": {
        "id": "VcBu8_ocG6MM"
      },
      "execution_count": null,
      "outputs": []
    },
    {
      "cell_type": "code",
      "source": [
        "# Burada oluşturulan videoya isim veriyoruz. Ayrıca FPS'i 16 olarak ayarladım ben.\n",
        "write_video(\"infinite_zoom_out.mp4\", all_frames, 16)"
      ],
      "metadata": {
        "id": "oQ2yAoiIG6Pq"
      },
      "execution_count": 13,
      "outputs": []
    }
  ]
}